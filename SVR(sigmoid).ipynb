{
 "cells": [
  {
   "cell_type": "code",
   "execution_count": 1,
   "metadata": {},
   "outputs": [],
   "source": [
    "import numpy as np\n",
    "import matplotlib.pyplot as plt\n",
    "from sklearn.svm import SVR\n",
    "from sklearn.metrics import roc_curve\n",
    "from sklearn.metrics import auc\n",
    "from sklearn.model_selection import train_test_split \n",
    "from sklearn.metrics import classification_report, confusion_matrix \n",
    "from sklearn.metrics import accuracy_score\n",
    "import os\n",
    "from statistics import *"
   ]
  },
  {
   "cell_type": "code",
   "execution_count": 2,
   "metadata": {},
   "outputs": [
    {
     "name": "stderr",
     "output_type": "stream",
     "text": [
      "C:\\ProgramData\\Anaconda3\\lib\\site-packages\\sklearn\\svm\\base.py:196: FutureWarning: The default value of gamma will change from 'auto' to 'scale' in version 0.22 to account better for unscaled features. Set gamma explicitly to 'auto' or 'scale' to avoid this warning.\n",
      "  \"avoid this warning.\", FutureWarning)\n"
     ]
    }
   ],
   "source": [
    "import pandas as pd\n",
    "import random \n",
    "import glob\n",
    "\n",
    "path = r'D:\\New folder\\1' # use your path\n",
    "\n",
    "all_files = glob.glob(path + \"/*.csv\")\n",
    "\n",
    "li = []\n",
    "\n",
    "for filename in all_files:\n",
    "    n = sum(1 for line in open(filename))-1  # Calculate number of rows in file\n",
    "    s = n//10  # sample size of 10%\n",
    "    skip = sorted(random.sample(range(1, n+1), n-s))  # n+1 to compensate for header \n",
    "    df = pd.read_csv(filename, index_col=None,skiprows=skip,header=0)\n",
    "    df= df[(df==0).sum(axis=1)/len(df.columns) <= 0.50]\n",
    "    li.append(df)\n",
    "\n",
    "frame1 = pd.concat(li, axis=0, ignore_index=True)\n",
    "frame1=frame1.astype('float32')\n",
    "df=frame1.copy()\n",
    "x=frame1.iloc[:,:]\n",
    "#x.drop(['BW'], axis=1)\n",
    "#y=frame[frame.columns[-1]]\n",
    "y=frame1.iloc[:,-1]\n",
    "del x['BW']\n",
    "models = []\n",
    "svclassifier=SVR(kernel='sigmoid')\n",
    "svclassifier.fit(x, y)\n",
    "models.append(svclassifier)"
   ]
  },
  {
   "cell_type": "code",
   "execution_count": 3,
   "metadata": {},
   "outputs": [],
   "source": [
    "import gc\n",
    "del [[frame1,li,df]]\n",
    "frame1=pd.DataFrame()"
   ]
  },
  {
   "cell_type": "code",
   "execution_count": 4,
   "metadata": {},
   "outputs": [
    {
     "name": "stderr",
     "output_type": "stream",
     "text": [
      "C:\\ProgramData\\Anaconda3\\lib\\site-packages\\sklearn\\svm\\base.py:196: FutureWarning: The default value of gamma will change from 'auto' to 'scale' in version 0.22 to account better for unscaled features. Set gamma explicitly to 'auto' or 'scale' to avoid this warning.\n",
      "  \"avoid this warning.\", FutureWarning)\n"
     ]
    }
   ],
   "source": [
    "path = r'D:\\New folder\\2' # use your path\n",
    "\n",
    "all_files = glob.glob(path + \"/*.csv\")\n",
    "\n",
    "li = []\n",
    "\n",
    "for filename in all_files:\n",
    "    n = sum(1 for line in open(filename))-1  # Calculate number of rows in file\n",
    "    s = n//10  # sample size of 10%\n",
    "    skip = sorted(random.sample(range(1, n+1), n-s))  # n+1 to compensate for header \n",
    "    df = pd.read_csv(filename, index_col=None,skiprows=skip,header=0)\n",
    "    df= df[(df==0).sum(axis=1)/len(df.columns) <= 0.50]\n",
    "    li.append(df)\n",
    "\n",
    "frame2 = pd.concat(li, axis=0, ignore_index=True)\n",
    "frame2=frame2.astype('float32')\n",
    "df=frame2.copy()\n",
    "x=frame2.iloc[:,:]\n",
    "y=frame2.iloc[:,-1]\n",
    "del x['BW']\n",
    "svclassifier=SVR(kernel='sigmoid')\n",
    "svclassifier.fit(x, y)\n",
    "models.append(svclassifier)"
   ]
  },
  {
   "cell_type": "code",
   "execution_count": 5,
   "metadata": {},
   "outputs": [],
   "source": [
    "import gc\n",
    "del [[frame2,li,df]]\n",
    "frame2=pd.DataFrame()"
   ]
  },
  {
   "cell_type": "code",
   "execution_count": 6,
   "metadata": {},
   "outputs": [
    {
     "name": "stderr",
     "output_type": "stream",
     "text": [
      "C:\\ProgramData\\Anaconda3\\lib\\site-packages\\sklearn\\svm\\base.py:196: FutureWarning: The default value of gamma will change from 'auto' to 'scale' in version 0.22 to account better for unscaled features. Set gamma explicitly to 'auto' or 'scale' to avoid this warning.\n",
      "  \"avoid this warning.\", FutureWarning)\n"
     ]
    }
   ],
   "source": [
    "path = r'D:\\New folder\\3' # use your path\n",
    "\n",
    "all_files = glob.glob(path + \"/*.csv\")\n",
    "\n",
    "li = []\n",
    "\n",
    "for filename in all_files:\n",
    "    n = sum(1 for line in open(filename))-1  # Calculate number of rows in file\n",
    "    s = n//10  # sample size of 10%\n",
    "    skip = sorted(random.sample(range(1, n+1), n-s))  # n+1 to compensate for header \n",
    "    df = pd.read_csv(filename, index_col=None,skiprows=skip,header=0)\n",
    "    df= df[(df==0).sum(axis=1)/len(df.columns) <= 0.50]\n",
    "    li.append(df)\n",
    "\n",
    "frame3 = pd.concat(li, axis=0, ignore_index=True)\n",
    "frame3=frame3.astype('float32')\n",
    "df=frame3.copy()\n",
    "x=frame3.iloc[:,:]\n",
    "y=frame3.iloc[:,-1]\n",
    "del x['BW']\n",
    "svclassifier=SVR(kernel='sigmoid')\n",
    "svclassifier.fit(x, y)\n",
    "models.append(svclassifier)"
   ]
  },
  {
   "cell_type": "code",
   "execution_count": 7,
   "metadata": {},
   "outputs": [],
   "source": [
    "import gc\n",
    "del [[frame3,li,df]]\n",
    "frame3=pd.DataFrame()"
   ]
  },
  {
   "cell_type": "code",
   "execution_count": 8,
   "metadata": {},
   "outputs": [
    {
     "name": "stderr",
     "output_type": "stream",
     "text": [
      "C:\\ProgramData\\Anaconda3\\lib\\site-packages\\sklearn\\svm\\base.py:196: FutureWarning: The default value of gamma will change from 'auto' to 'scale' in version 0.22 to account better for unscaled features. Set gamma explicitly to 'auto' or 'scale' to avoid this warning.\n",
      "  \"avoid this warning.\", FutureWarning)\n"
     ]
    }
   ],
   "source": [
    "path = r'D:\\New folder\\4' # use your path\n",
    "\n",
    "all_files = glob.glob(path + \"/*.csv\")\n",
    "\n",
    "li = []\n",
    "\n",
    "for filename in all_files:\n",
    "    n = sum(1 for line in open(filename))-1  # Calculate number of rows in file\n",
    "    s = n//10  # sample size of 10%\n",
    "    skip = sorted(random.sample(range(1, n+1), n-s))  # n+1 to compensate for header \n",
    "    df = pd.read_csv(filename, index_col=None,skiprows=skip,header=0)\n",
    "    df= df[(df==0).sum(axis=1)/len(df.columns) <= 0.50]\n",
    "    li.append(df)\n",
    "\n",
    "frame4 = pd.concat(li, axis=0, ignore_index=True)\n",
    "frame4=frame4.astype('float32')\n",
    "df=frame4.copy()\n",
    "x=frame4.iloc[:,:]\n",
    "y=frame4.iloc[:,-1]\n",
    "del x['BW']\n",
    "svclassifier=SVR(kernel='sigmoid')\n",
    "svclassifier.fit(x, y)\n",
    "models.append(svclassifier)"
   ]
  },
  {
   "cell_type": "code",
   "execution_count": 9,
   "metadata": {},
   "outputs": [],
   "source": [
    "import gc\n",
    "del [[frame4,li,df]]\n",
    "frame4=pd.DataFrame()"
   ]
  },
  {
   "cell_type": "code",
   "execution_count": 10,
   "metadata": {},
   "outputs": [
    {
     "name": "stderr",
     "output_type": "stream",
     "text": [
      "C:\\ProgramData\\Anaconda3\\lib\\site-packages\\sklearn\\svm\\base.py:196: FutureWarning: The default value of gamma will change from 'auto' to 'scale' in version 0.22 to account better for unscaled features. Set gamma explicitly to 'auto' or 'scale' to avoid this warning.\n",
      "  \"avoid this warning.\", FutureWarning)\n"
     ]
    }
   ],
   "source": [
    "path = r'D:\\New folder\\5' # use your path\n",
    "\n",
    "all_files = glob.glob(path + \"/*.csv\")\n",
    "\n",
    "li = []\n",
    "\n",
    "for filename in all_files:\n",
    "    n = sum(1 for line in open(filename))-1  # Calculate number of rows in file\n",
    "    s = n//10  # sample size of 10%\n",
    "    skip = sorted(random.sample(range(1, n+1), n-s))  # n+1 to compensate for header \n",
    "    df = pd.read_csv(filename, index_col=None,skiprows=skip,header=0)\n",
    "    df= df[(df==0).sum(axis=1)/len(df.columns) <= 0.50]\n",
    "    li.append(df)\n",
    "\n",
    "frame5 = pd.concat(li, axis=0, ignore_index=True)\n",
    "frame5=frame5.astype('float32')\n",
    "df=frame5.copy()\n",
    "x=frame5.iloc[:,:]\n",
    "y=frame5.iloc[:,-1]\n",
    "del x['BW']\n",
    "svclassifier=SVR(kernel='sigmoid')\n",
    "svclassifier.fit(x, y)\n",
    "models.append(svclassifier)"
   ]
  },
  {
   "cell_type": "code",
   "execution_count": 11,
   "metadata": {},
   "outputs": [],
   "source": [
    "import gc\n",
    "del [[frame5,li,df]]\n",
    "frame5=pd.DataFrame()"
   ]
  },
  {
   "cell_type": "code",
   "execution_count": 12,
   "metadata": {},
   "outputs": [
    {
     "name": "stderr",
     "output_type": "stream",
     "text": [
      "C:\\ProgramData\\Anaconda3\\lib\\site-packages\\sklearn\\svm\\base.py:196: FutureWarning: The default value of gamma will change from 'auto' to 'scale' in version 0.22 to account better for unscaled features. Set gamma explicitly to 'auto' or 'scale' to avoid this warning.\n",
      "  \"avoid this warning.\", FutureWarning)\n"
     ]
    }
   ],
   "source": [
    "path = r'D:\\New folder\\6' # use your path\n",
    "\n",
    "all_files = glob.glob(path + \"/*.csv\")\n",
    "\n",
    "li = []\n",
    "\n",
    "for filename in all_files:\n",
    "    n = sum(1 for line in open(filename))-1  # Calculate number of rows in file\n",
    "    s = n//10  # sample size of 10%\n",
    "    skip = sorted(random.sample(range(1, n+1), n-s))  # n+1 to compensate for header \n",
    "    df = pd.read_csv(filename, index_col=None,skiprows=skip,header=0)\n",
    "    df= df[(df==0).sum(axis=1)/len(df.columns) <= 0.50]\n",
    "    li.append(df)\n",
    "\n",
    "frame6 = pd.concat(li, axis=0, ignore_index=True)\n",
    "frame6=frame6.astype('float32')\n",
    "df=frame6.copy()\n",
    "x=frame6.iloc[:,:]\n",
    "y=frame6.iloc[:,-1]\n",
    "del x['BW']\n",
    "svclassifier=SVR(kernel='sigmoid')\n",
    "svclassifier.fit(x, y)\n",
    "models.append(svclassifier)"
   ]
  },
  {
   "cell_type": "code",
   "execution_count": 13,
   "metadata": {},
   "outputs": [],
   "source": [
    "import gc\n",
    "del [[frame6,li,df]]\n",
    "frame6=pd.DataFrame()"
   ]
  },
  {
   "cell_type": "code",
   "execution_count": 15,
   "metadata": {},
   "outputs": [
    {
     "name": "stderr",
     "output_type": "stream",
     "text": [
      "C:\\ProgramData\\Anaconda3\\lib\\site-packages\\sklearn\\svm\\base.py:196: FutureWarning: The default value of gamma will change from 'auto' to 'scale' in version 0.22 to account better for unscaled features. Set gamma explicitly to 'auto' or 'scale' to avoid this warning.\n",
      "  \"avoid this warning.\", FutureWarning)\n"
     ]
    }
   ],
   "source": [
    "path = r'D:\\New folder\\7' # use your path\n",
    "\n",
    "all_files = glob.glob(path + \"/*.csv\")\n",
    "\n",
    "li = []\n",
    "\n",
    "for filename in all_files:\n",
    "    n = sum(1 for line in open(filename))-1  # Calculate number of rows in file\n",
    "    s = n//10  # sample size of 10%\n",
    "    skip = sorted(random.sample(range(1, n+1), n-s))  # n+1 to compensate for header \n",
    "    df = pd.read_csv(filename, index_col=None,skiprows=skip,header=0)\n",
    "    df= df[(df==0).sum(axis=1)/len(df.columns) <= 0.50]\n",
    "    li.append(df)\n",
    "\n",
    "frame7 = pd.concat(li, axis=0, ignore_index=True)\n",
    "frame7=frame7.astype('float32')\n",
    "df=frame7.copy()\n",
    "x=frame7.iloc[:,:]\n",
    "y=frame7.iloc[:,-1]\n",
    "del x['BW']\n",
    "svclassifier=SVR(kernel='sigmoid')\n",
    "svclassifier.fit(x, y)\n",
    "models.append(svclassifier)"
   ]
  },
  {
   "cell_type": "code",
   "execution_count": 16,
   "metadata": {},
   "outputs": [],
   "source": [
    "import gc\n",
    "del [[frame7,li,df]]\n",
    "frame7=pd.DataFrame()"
   ]
  },
  {
   "cell_type": "code",
   "execution_count": 17,
   "metadata": {},
   "outputs": [
    {
     "name": "stderr",
     "output_type": "stream",
     "text": [
      "C:\\ProgramData\\Anaconda3\\lib\\site-packages\\sklearn\\svm\\base.py:196: FutureWarning: The default value of gamma will change from 'auto' to 'scale' in version 0.22 to account better for unscaled features. Set gamma explicitly to 'auto' or 'scale' to avoid this warning.\n",
      "  \"avoid this warning.\", FutureWarning)\n"
     ]
    }
   ],
   "source": [
    "path = r'D:\\New folder\\8' # use your path\n",
    "\n",
    "all_files = glob.glob(path + \"/*.csv\")\n",
    "\n",
    "li = []\n",
    "\n",
    "for filename in all_files:\n",
    "    n = sum(1 for line in open(filename))-1  # Calculate number of rows in file\n",
    "    s = n//10  # sample size of 10%\n",
    "    skip = sorted(random.sample(range(1, n+1), n-s))  # n+1 to compensate for header \n",
    "    df = pd.read_csv(filename, index_col=None,skiprows=skip,header=0)\n",
    "    df= df[(df==0).sum(axis=1)/len(df.columns) <= 0.50]\n",
    "    li.append(df)\n",
    "\n",
    "frame8 = pd.concat(li, axis=0, ignore_index=True)\n",
    "frame8=frame8.astype('float32')\n",
    "df=frame8.copy()\n",
    "x=frame8.iloc[:,:]\n",
    "y=frame8.iloc[:,-1]\n",
    "del x['BW']\n",
    "svclassifier=SVR(kernel='sigmoid')\n",
    "svclassifier.fit(x, y)\n",
    "models.append(svclassifier)"
   ]
  },
  {
   "cell_type": "code",
   "execution_count": 18,
   "metadata": {},
   "outputs": [],
   "source": [
    "import gc\n",
    "del [[frame8,li,df]]\n",
    "frame8=pd.DataFrame()"
   ]
  },
  {
   "cell_type": "code",
   "execution_count": 19,
   "metadata": {},
   "outputs": [
    {
     "name": "stderr",
     "output_type": "stream",
     "text": [
      "C:\\ProgramData\\Anaconda3\\lib\\site-packages\\sklearn\\svm\\base.py:196: FutureWarning: The default value of gamma will change from 'auto' to 'scale' in version 0.22 to account better for unscaled features. Set gamma explicitly to 'auto' or 'scale' to avoid this warning.\n",
      "  \"avoid this warning.\", FutureWarning)\n"
     ]
    }
   ],
   "source": [
    "path = r'D:\\New folder\\9' # use your path\n",
    "\n",
    "all_files = glob.glob(path + \"/*.csv\")\n",
    "\n",
    "li = []\n",
    "\n",
    "for filename in all_files:\n",
    "    n = sum(1 for line in open(filename))-1  # Calculate number of rows in file\n",
    "    s = n//10  # sample size of 10%\n",
    "    skip = sorted(random.sample(range(1, n+1), n-s))  # n+1 to compensate for header \n",
    "    df = pd.read_csv(filename, index_col=None,skiprows=skip,header=0)\n",
    "    df= df[(df==0).sum(axis=1)/len(df.columns) <= 0.50]\n",
    "    li.append(df)\n",
    "\n",
    "frame9 = pd.concat(li, axis=0, ignore_index=True)\n",
    "frame9=frame9.astype('float32')\n",
    "df=frame9.copy()\n",
    "x=frame9.iloc[:,:]\n",
    "y=frame9.iloc[:,-1]\n",
    "del x['BW']\n",
    "svclassifier=SVR(kernel='sigmoid')\n",
    "svclassifier.fit(x, y)\n",
    "models.append(svclassifier)"
   ]
  },
  {
   "cell_type": "code",
   "execution_count": 20,
   "metadata": {},
   "outputs": [],
   "source": [
    "import gc\n",
    "del [[frame9,li,df]]\n",
    "frame9=pd.DataFrame()"
   ]
  },
  {
   "cell_type": "code",
   "execution_count": 21,
   "metadata": {},
   "outputs": [
    {
     "name": "stderr",
     "output_type": "stream",
     "text": [
      "C:\\ProgramData\\Anaconda3\\lib\\site-packages\\sklearn\\svm\\base.py:196: FutureWarning: The default value of gamma will change from 'auto' to 'scale' in version 0.22 to account better for unscaled features. Set gamma explicitly to 'auto' or 'scale' to avoid this warning.\n",
      "  \"avoid this warning.\", FutureWarning)\n"
     ]
    }
   ],
   "source": [
    "path = r'D:\\New folder\\10' # use your path\n",
    "\n",
    "all_files = glob.glob(path + \"/*.csv\")\n",
    "\n",
    "li = []\n",
    "\n",
    "for filename in all_files:\n",
    "    n = sum(1 for line in open(filename))-1  # Calculate number of rows in file\n",
    "    s = n//10  # sample size of 10%\n",
    "    skip = sorted(random.sample(range(1, n+1), n-s))  # n+1 to compensate for header \n",
    "    df = pd.read_csv(filename, index_col=None,skiprows=skip,header=0)\n",
    "    df= df[(df==0).sum(axis=1)/len(df.columns) <= 0.50]\n",
    "    li.append(df)\n",
    "\n",
    "frame10 = pd.concat(li, axis=0, ignore_index=True)\n",
    "frame10=frame10.astype('float32')\n",
    "df=frame10.copy()\n",
    "x=frame10.iloc[:,:]\n",
    "y=frame10.iloc[:,-1]\n",
    "del x['BW']\n",
    "svclassifier=SVR(kernel='sigmoid')\n",
    "svclassifier.fit(x, y)\n",
    "models.append(svclassifier)"
   ]
  },
  {
   "cell_type": "code",
   "execution_count": 22,
   "metadata": {},
   "outputs": [],
   "source": [
    "import gc\n",
    "del [[frame10,li,df]]\n",
    "frame10=pd.DataFrame()"
   ]
  },
  {
   "cell_type": "code",
   "execution_count": 23,
   "metadata": {},
   "outputs": [
    {
     "name": "stderr",
     "output_type": "stream",
     "text": [
      "C:\\ProgramData\\Anaconda3\\lib\\site-packages\\sklearn\\svm\\base.py:196: FutureWarning: The default value of gamma will change from 'auto' to 'scale' in version 0.22 to account better for unscaled features. Set gamma explicitly to 'auto' or 'scale' to avoid this warning.\n",
      "  \"avoid this warning.\", FutureWarning)\n"
     ]
    }
   ],
   "source": [
    "path = r'D:\\New folder\\11' # use your path\n",
    "\n",
    "all_files = glob.glob(path + \"/*.csv\")\n",
    "\n",
    "li = []\n",
    "\n",
    "for filename in all_files:\n",
    "    n = sum(1 for line in open(filename))-1  # Calculate number of rows in file\n",
    "    s = n//10  # sample size of 10%\n",
    "    skip = sorted(random.sample(range(1, n+1), n-s))  # n+1 to compensate for header \n",
    "    df = pd.read_csv(filename, index_col=None,skiprows=skip,header=0)\n",
    "    df= df[(df==0).sum(axis=1)/len(df.columns) <= 0.50]\n",
    "    li.append(df)\n",
    "\n",
    "frame11 = pd.concat(li, axis=0, ignore_index=True)\n",
    "frame11=frame11.astype('float32')\n",
    "df=frame11.copy()\n",
    "x=frame11.iloc[:,:]\n",
    "y=frame11.iloc[:,-1]\n",
    "del x['BW']\n",
    "svclassifier=SVR(kernel='sigmoid')\n",
    "svclassifier.fit(x, y)\n",
    "models.append(svclassifier)"
   ]
  },
  {
   "cell_type": "code",
   "execution_count": 24,
   "metadata": {},
   "outputs": [],
   "source": [
    "import gc\n",
    "del [[frame11,li,df]]\n",
    "frame11=pd.DataFrame()"
   ]
  },
  {
   "cell_type": "code",
   "execution_count": 25,
   "metadata": {},
   "outputs": [
    {
     "name": "stdout",
     "output_type": "stream",
     "text": [
      "Accuracy when using SVR is  71.7948717948718\n"
     ]
    }
   ],
   "source": [
    "path = r'D:\\Training' # use your path\n",
    "all_files = glob.glob(path + \"/*.csv\")\n",
    "y_p=[]\n",
    "y_pid=[]\n",
    "for filename in all_files:\n",
    "    n = sum(1 for line in open(filename))-1  # Calculate number of rows in file\n",
    "    s = n//10  # sample size of 10%\n",
    "    skip = sorted(random.sample(range(1, n+1), n-s))  # n+1 to compensate for header \n",
    "    df = pd.read_csv(filename, index_col=None,skiprows=skip,header=0)\n",
    "    df= df[(df==0).sum(axis=1)/len(df.columns) <= 0.50]\n",
    "    x=df.iloc[:,:]\n",
    "#y=frame[frame.columns[-1]]\n",
    "    sum1=0\n",
    "    count=0\n",
    "    for model in models:\n",
    "        count=count+1\n",
    "        y_pred=model.predict(x)\n",
    "        sum1=sum1+y_pred.mean()\n",
    "    base=os.path.basename(filename)\n",
    "    x=os.path.splitext(base)[0]\n",
    "    x = x.split(\"_\")\n",
    "    k=sum1/count\n",
    "    if k<10:\n",
    "        y_p=np.append(y_p,[0])\n",
    "        y_pid=np.append(y_pid,[k])\n",
    "    else:\n",
    "        y_p=np.append(y_p,[1])\n",
    "        y_pid=np.append(y_pid,[k])\n",
    "y_p\n",
    "filename=r'C:\\Users\\Ashutosh\\Downloads\\full_test_split.csv'\n",
    "#filename=r'E:\\Book.csv'\n",
    "dframe = pd.read_csv(filename, index_col=None,header=0)\n",
    "y_test=dframe[['PHQ_Binary']]\n",
    "y_test\n",
    "print (\"Accuracy when using SVR is \", accuracy_score(y_test,y_p.round(), normalize=True)*100)"
   ]
  },
  {
   "cell_type": "code",
   "execution_count": 30,
   "metadata": {},
   "outputs": [
    {
     "name": "stdout",
     "output_type": "stream",
     "text": [
      "RMSE using SVR with sigmoid kernal is  5.413690938785482\n"
     ]
    }
   ],
   "source": [
    "from sklearn.metrics import mean_squared_error\n",
    "from math import sqrt\n",
    "\n",
    "rms = sqrt(mean_squared_error(y_test, y_pid))\n",
    "print (\"RMSE using SVR with sigmoid kernal is \",rms) "
   ]
  },
  {
   "cell_type": "code",
   "execution_count": 32,
   "metadata": {},
   "outputs": [
    {
     "name": "stdout",
     "output_type": "stream",
     "text": [
      "Mean_Absolute_Error using SVR with sigmoid kernal is: 5.394384554821085\n"
     ]
    }
   ],
   "source": [
    "from sklearn.metrics import mean_absolute_error\n",
    "a=mean_absolute_error(y_test, y_pid)\n",
    "print(\"Mean_Absolute_Error using SVR with sigmoid kernal is:\",a)"
   ]
  },
  {
   "cell_type": "code",
   "execution_count": null,
   "metadata": {},
   "outputs": [],
   "source": []
  }
 ],
 "metadata": {
  "kernelspec": {
   "display_name": "Python 3",
   "language": "python",
   "name": "python3"
  },
  "language_info": {
   "codemirror_mode": {
    "name": "ipython",
    "version": 3
   },
   "file_extension": ".py",
   "mimetype": "text/x-python",
   "name": "python",
   "nbconvert_exporter": "python",
   "pygments_lexer": "ipython3",
   "version": "3.7.3"
  }
 },
 "nbformat": 4,
 "nbformat_minor": 2
}
